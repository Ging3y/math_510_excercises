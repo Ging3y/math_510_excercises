{
 "cells": [
  {
   "cell_type": "code",
   "execution_count": 1,
   "metadata": {},
   "outputs": [],
   "source": [
    "import numpy as np\n",
    "import scipy.linalg as la"
   ]
  },
  {
   "cell_type": "code",
   "execution_count": 62,
   "metadata": {},
   "outputs": [],
   "source": [
    "def mGS(A):\n",
    "    \n",
    "    # Get shape\n",
    "    m = A.shape[0]\n",
    "    n = A.shape[1]\n",
    "    \n",
    "    # Build v vectors\n",
    "    v = [A[:,i] for i in range(n)]\n",
    "    \n",
    "    # Initialize Q, R\n",
    "    Q = np.zeros((m,n))\n",
    "    R = np.zeros((n,n))\n",
    "    \n",
    "    # Iterate and perform modified Gram-Schmit\n",
    "    for i in range(n):\n",
    "        R[i,i] = la.norm(v[i], ord=2)\n",
    "        Q[:,i] = v[i]/R[i,i]\n",
    "        for j in range(i+1,n):\n",
    "            R[i,j] = np.inner(np.conjugate(Q[:,i]), v[j])\n",
    "            v[j] = v[j]-R[i,j]*Q[:,i]\n",
    "    \n",
    "    return Q, R   "
   ]
  },
  {
   "cell_type": "code",
   "execution_count": 63,
   "metadata": {},
   "outputs": [],
   "source": [
    "A = np.random.randn(5,5)"
   ]
  },
  {
   "cell_type": "code",
   "execution_count": 64,
   "metadata": {},
   "outputs": [],
   "source": [
    "Q, R = mGS(A)"
   ]
  },
  {
   "cell_type": "code",
   "execution_count": 65,
   "metadata": {},
   "outputs": [
    {
     "data": {
      "text/plain": [
       "True"
      ]
     },
     "execution_count": 65,
     "metadata": {},
     "output_type": "execute_result"
    }
   ],
   "source": [
    "# Verify A=QR\n",
    "np.allclose(A, Q@R)"
   ]
  },
  {
   "cell_type": "code",
   "execution_count": 68,
   "metadata": {},
   "outputs": [
    {
     "data": {
      "text/plain": [
       "True"
      ]
     },
     "execution_count": 68,
     "metadata": {},
     "output_type": "execute_result"
    }
   ],
   "source": [
    "# Verify Q is unitary\n",
    "np.allclose(np.eye(A.shape[0]), Q@Q.T)"
   ]
  },
  {
   "cell_type": "code",
   "execution_count": 66,
   "metadata": {},
   "outputs": [
    {
     "data": {
      "text/plain": [
       "array([[-0.46006986,  0.42242296, -0.16792561, -0.60862578,  0.4596414 ],\n",
       "       [ 0.2949944 ,  0.18790406,  0.2557787 ,  0.43355594,  0.79011194],\n",
       "       [-0.26438929,  0.68675582, -0.28660874,  0.54924741, -0.27321688],\n",
       "       [ 0.75635191,  0.26439551, -0.53769804, -0.26100714, -0.02798042],\n",
       "       [-0.2436065 , -0.4946841 , -0.73151521,  0.26796729,  0.29836646]])"
      ]
     },
     "execution_count": 66,
     "metadata": {},
     "output_type": "execute_result"
    }
   ],
   "source": [
    "Q"
   ]
  },
  {
   "cell_type": "code",
   "execution_count": 67,
   "metadata": {},
   "outputs": [
    {
     "data": {
      "text/plain": [
       "array([[ 1.95527283, -0.08789732, -0.35840572, -0.31125331, -2.48235898],\n",
       "       [ 0.        ,  1.84154897, -1.03870725, -1.62627784, -0.58639404],\n",
       "       [ 0.        ,  0.        ,  1.79651706, -1.38642962,  0.22759502],\n",
       "       [ 0.        ,  0.        ,  0.        ,  0.23954458,  1.65601919],\n",
       "       [ 0.        ,  0.        ,  0.        ,  0.        ,  0.19968482]])"
      ]
     },
     "execution_count": 67,
     "metadata": {},
     "output_type": "execute_result"
    }
   ],
   "source": [
    "R"
   ]
  }
 ],
 "metadata": {
  "kernelspec": {
   "display_name": "Python 3",
   "language": "python",
   "name": "python3"
  },
  "language_info": {
   "codemirror_mode": {
    "name": "ipython",
    "version": 3
   },
   "file_extension": ".py",
   "mimetype": "text/x-python",
   "name": "python",
   "nbconvert_exporter": "python",
   "pygments_lexer": "ipython3",
   "version": "3.7.4"
  }
 },
 "nbformat": 4,
 "nbformat_minor": 4
}
