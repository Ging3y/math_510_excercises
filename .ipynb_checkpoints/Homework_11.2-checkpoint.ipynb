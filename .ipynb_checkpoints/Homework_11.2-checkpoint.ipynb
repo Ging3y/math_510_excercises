{
 "cells": [
  {
   "cell_type": "code",
   "execution_count": 22,
   "metadata": {},
   "outputs": [],
   "source": [
    "import matplotlib.pyplot as plt\n",
    "import numpy as np\n",
    "from scipy.special import gamma\n",
    "import scipy.linalg as la"
   ]
  },
  {
   "cell_type": "code",
   "execution_count": 46,
   "metadata": {},
   "outputs": [
    {
     "name": "stdout",
     "output_type": "stream",
     "text": [
      "Function: e^x with coeffecient -0.10502512106936046\n",
      "Function: sin(x) with coeffecient -0.13909155712848742\n",
      "Function: gamma(x) with coeffecient 1.1117332023528421\n",
      "Function: constant with coeffecient 0.2908823123014282\n"
     ]
    }
   ],
   "source": [
    "# Part a\n",
    "\n",
    "# Discretize our domain\n",
    "DOMAIN = np.linspace(1,2,500)\n",
    "\n",
    "# Get our overdetermined A matrix\n",
    "A = np.vstack((np.exp(DOMAIN), np.sin(DOMAIN), gamma(DOMAIN), np.ones(len(DOMAIN)))).T\n",
    "# Get our b vector\n",
    "b = np.array([1/(x) for x in DOMAIN])\n",
    "\n",
    "# Solve for our coeffs of best fit\n",
    "coeffs_ = la.lstsq(A,b)[0]\n",
    "\n",
    "# Display results\n",
    "for c, l in zip(coeffs_,['e^x', 'sin(x)', 'gamma(x)', 'constant']):\n",
    "    print(\"Function: {} with coeffecient {}\".format(l,c))\n",
    "    \n",
    "approx = lambda x: np.dot(np.array([np.exp(x), np.sin(x), gamma(x), 1]), coeffs_)"
   ]
  },
  {
   "cell_type": "code",
   "execution_count": 47,
   "metadata": {},
   "outputs": [
    {
     "data": {
      "text/plain": [
       "[<matplotlib.lines.Line2D at 0x7fe42b559950>]"
      ]
     },
     "execution_count": 47,
     "metadata": {},
     "output_type": "execute_result"
    },
    {
     "data": {
      "image/png": "[encoded data removed]",
      "text/plain": [
       "<Figure size 432x288 with 1 Axes>"
      ]
     },
     "metadata": {
      "needs_background": "light"
     },
     "output_type": "display_data"
    }
   ],
   "source": [
    "plt.title(\"Approximation L2 error {}\".format(round(la.norm(b-np.array([approx(x) for x in DOMAIN]), ord=2),8)))\n",
    "plt.plot(DOMAIN, b)\n",
    "plt.plot(DOMAIN, [approx(x) for x in DOMAIN])"
   ]
  },
  {
   "cell_type": "code",
   "execution_count": null,
   "metadata": {},
   "outputs": [],
   "source": []
  }
 ],
 "metadata": {
  "kernelspec": {
   "display_name": "Python 3",
   "language": "python",
   "name": "python3"
  },
  "language_info": {
   "codemirror_mode": {
    "name": "ipython",
    "version": 3
   },
   "file_extension": ".py",
   "mimetype": "text/x-python",
   "name": "python",
   "nbconvert_exporter": "python",
   "pygments_lexer": "ipython3",
   "version": "3.7.4"
  }
 },
 "nbformat": 4,
 "nbformat_minor": 4
}
