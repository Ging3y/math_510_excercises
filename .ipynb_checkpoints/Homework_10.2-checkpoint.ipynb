{
 "cells": [
  {
   "cell_type": "code",
   "execution_count": 1,
   "metadata": {},
   "outputs": [],
   "source": [
    "import numpy as np\n",
    "import scipy.linalg as la"
   ]
  },
  {
   "cell_type": "code",
   "execution_count": 312,
   "metadata": {},
   "outputs": [],
   "source": [
    "def house(A):\n",
    "    \"\"\" Returns an upper triangular matrix R and lower triangular matrix W. \"\"\"\n",
    "    m,n = A.shape\n",
    "    v = [] # Stores reflectors to make W\n",
    "    for k in range(n):\n",
    "        x = A[k:m,k]\n",
    "        e1 = np.zeros(len(x))\n",
    "        e1[0] = 1\n",
    "        v_k = np.sign(x[0])*la.norm(x,ord=2)*e1+x\n",
    "        v_k = v_k/la.norm(v_k,ord=2)\n",
    "        v.append(v_k)\n",
    "        A[k:m,k:n] = A[k:m,k:n]-2*np.outer(v_k,(v_k@A[k:m,k:n]))\n",
    "        \n",
    "    # Make W\n",
    "    W = np.zeros((m,n))    \n",
    "    for i,col in enumerate(v):\n",
    "        W[i:,i] = col\n",
    "        \n",
    "    return A, W\n",
    "    "
   ]
  },
  {
   "cell_type": "code",
   "execution_count": 313,
   "metadata": {},
   "outputs": [
    {
     "name": "stdout",
     "output_type": "stream",
     "text": [
      "R Matrix:\n",
      "[[-2.43826399e+00  1.30346214e+00 -2.69546878e-01  4.37178733e-01]\n",
      " [ 0.00000000e+00  1.53476187e+00  6.85757399e-01  2.38698616e+00]\n",
      " [ 0.00000000e+00  0.00000000e+00  1.55933095e+00 -6.64519111e-01]\n",
      " [ 0.00000000e+00  0.00000000e+00  2.22044605e-16  3.26693868e-01]]\n",
      "\n",
      "\n",
      "W Matrix:\n",
      "[[ 0.96954589  0.          0.          0.        ]\n",
      " [-0.24438186 -0.86740739  0.          0.        ]\n",
      " [-0.01352309  0.13176351 -0.90161539  0.        ]\n",
      " [ 0.00868297  0.47983622 -0.43253865 -1.        ]]\n"
     ]
    }
   ],
   "source": [
    "A = np.random.randn(4,4)\n",
    "R, W = house(A)\n",
    "print(\"R Matrix:\\n{}\".format(R))\n",
    "print(\"\\n\")\n",
    "print(\"W Matrix:\\n{}\".format(W))"
   ]
  },
  {
   "cell_type": "code",
   "execution_count": 317,
   "metadata": {},
   "outputs": [],
   "source": [
    "def formQ(W):\n",
    "    \"\"\" Given a W, forms the unitary matrix Q. \"\"\"\n",
    "    \n",
    "    m, n = W.shape\n",
    "    Q_s = []\n",
    "    for j in range(n):\n",
    "        v = W[:,j]\n",
    "        Q_s.append(np.eye(m)-2*np.outer(v,v)) # Q = I-2vv.T\n",
    "        \n",
    "    Q = Q_s[0].copy()\n",
    "    for q_ in Q_s[1:]:\n",
    "        Q = Q@q_ # Formula 10.7\n",
    "    \n",
    "    return Q"
   ]
  },
  {
   "cell_type": "code",
   "execution_count": 318,
   "metadata": {},
   "outputs": [],
   "source": [
    "Q = formQ(W)"
   ]
  },
  {
   "cell_type": "code",
   "execution_count": 319,
   "metadata": {},
   "outputs": [
    {
     "data": {
      "text/plain": [
       "True"
      ]
     },
     "execution_count": 319,
     "metadata": {},
     "output_type": "execute_result"
    }
   ],
   "source": [
    "# Check it's unitary\n",
    "np.allclose(np.eye(W.shape[0]), Q@Q.T)"
   ]
  }
 ],
 "metadata": {
  "kernelspec": {
   "display_name": "Python 3",
   "language": "python",
   "name": "python3"
  },
  "language_info": {
   "codemirror_mode": {
    "name": "ipython",
    "version": 3
   },
   "file_extension": ".py",
   "mimetype": "text/x-python",
   "name": "python",
   "nbconvert_exporter": "python",
   "pygments_lexer": "ipython3",
   "version": "3.7.4"
  }
 },
 "nbformat": 4,
 "nbformat_minor": 4
}
