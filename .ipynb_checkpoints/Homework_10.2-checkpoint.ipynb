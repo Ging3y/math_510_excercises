{
 "cells": [
  {
   "cell_type": "code",
   "execution_count": 1,
   "metadata": {},
   "outputs": [],
   "source": [
    "import numpy as np\n",
    "import scipy.linalg as la"
   ]
  },
  {
   "cell_type": "code",
   "execution_count": 300,
   "metadata": {},
   "outputs": [],
   "source": [
    "def house(A):\n",
    "    \"\"\" Returns an upper triangular matrix R and lower triangular matrix W. \"\"\"\n",
    "    m,n = A.shape\n",
    "    v = [] # Stores reflectors to make W\n",
    "    for k in range(n):\n",
    "        x = A[k:m,k]\n",
    "        e1 = np.zeros(len(x))\n",
    "        e1[0] = 1\n",
    "        v_k = np.sign(x[0])*la.norm(x,ord=2)*e1+x\n",
    "        v_k = v_k/la.norm(v_k,ord=2)\n",
    "        v.append(v_k)\n",
    "        A[k:m,k:n] = A[k:m,k:n]-2*np.outer(v_k,(v_k@A[k:m,k:n]))\n",
    "        \n",
    "    # Make W\n",
    "    W = np.zeros((m,n))    \n",
    "    for i,col in enumerate(v):\n",
    "        W[i:,i] = col\n",
    "        \n",
    "    return A, W\n",
    "    "
   ]
  },
  {
   "cell_type": "code",
   "execution_count": 301,
   "metadata": {},
   "outputs": [
    {
     "name": "stdout",
     "output_type": "stream",
     "text": [
      "[[ 3.33261871e+00 -4.18063665e-01 -2.07245481e-01]\n",
      " [-2.77555756e-17  1.22753812e+00 -3.00927314e-01]\n",
      " [ 4.44089210e-16  0.00000000e+00 -7.85440222e-01]]\n",
      "\n",
      "\n",
      "[[-0.93136094  0.          0.        ]\n",
      " [-0.02861158 -0.78383645  0.        ]\n",
      " [ 0.36297132  0.62096733  1.        ]]\n"
     ]
    }
   ],
   "source": [
    "A = np.random.randn(3,3)\n",
    "R, W = house(A)\n",
    "print(R)\n",
    "print(\"\\n\")\n",
    "print(W)"
   ]
  },
  {
   "cell_type": "code",
   "execution_count": 302,
   "metadata": {},
   "outputs": [],
   "source": [
    "def formQ(W):\n",
    "    \"\"\" Given a W, forms the unitary matrix Q. \"\"\"\n",
    "    \n",
    "    m, n = W.shape\n",
    "    Q_s = []\n",
    "    for j in range(n):\n",
    "        v = W[:,j]\n",
    "        Q_s.append(np.eye(m)-2*np.outer(v,v))\n",
    "        \n",
    "    Q = Q_s[0].copy()\n",
    "    Q = Q.T\n",
    "    for q_ in Q_s[1:]:\n",
    "        Q = Q@q_.T\n",
    "    \n",
    "    return Q"
   ]
  },
  {
   "cell_type": "code",
   "execution_count": 303,
   "metadata": {},
   "outputs": [],
   "source": [
    "Q = formQ(W)"
   ]
  },
  {
   "cell_type": "code",
   "execution_count": 304,
   "metadata": {},
   "outputs": [
    {
     "data": {
      "text/plain": [
       "True"
      ]
     },
     "execution_count": 304,
     "metadata": {},
     "output_type": "execute_result"
    }
   ],
   "source": [
    "# Check it's unitary\n",
    "np.allclose(np.eye(W.shape[0]), Q@Q.T)"
   ]
  }
 ],
 "metadata": {
  "kernelspec": {
   "display_name": "Python 3",
   "language": "python",
   "name": "python3"
  },
  "language_info": {
   "codemirror_mode": {
    "name": "ipython",
    "version": 3
   },
   "file_extension": ".py",
   "mimetype": "text/x-python",
   "name": "python",
   "nbconvert_exporter": "python",
   "pygments_lexer": "ipython3",
   "version": "3.7.4"
  }
 },
 "nbformat": 4,
 "nbformat_minor": 4
}
