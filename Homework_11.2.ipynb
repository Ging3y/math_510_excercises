{
 "cells": [
  {
   "cell_type": "code",
   "execution_count": 22,
   "metadata": {},
   "outputs": [],
   "source": [
    "import matplotlib.pyplot as plt\n",
    "import numpy as np\n",
    "from scipy.special import gamma\n",
    "import scipy.linalg as la"
   ]
  },
  {
   "cell_type": "code",
   "execution_count": 62,
   "metadata": {},
   "outputs": [
    {
     "name": "stdout",
     "output_type": "stream",
     "text": [
      "Function: e^x with coeffecient -0.10502512106936046\n",
      "Function: sin(x) with coeffecient -0.13909155712848742\n",
      "Function: gamma(x) with coeffecient 1.1117332023528421\n",
      "Function: constant with coeffecient 0.2908823123014282\n"
     ]
    }
   ],
   "source": [
    "# Part a\n",
    "# Discretize our domain\n",
    "DOMAIN = np.linspace(1,2,500)\n",
    "\n",
    "# Get our overdetermined A matrix\n",
    "A = np.vstack((np.exp(DOMAIN), np.sin(DOMAIN), gamma(DOMAIN), np.ones(len(DOMAIN)))).T\n",
    "# Get our b vector\n",
    "b = np.array([1/(x) for x in DOMAIN])\n",
    "\n",
    "# Solve for our coeffs of best fit\n",
    "coeffs_ = la.lstsq(A,b)[0]\n",
    "\n",
    "# Display results\n",
    "for c, l in zip(coeffs_,['e^x', 'sin(x)', 'gamma(x)', 'constant']):\n",
    "    print(\"Function: {} with coeffecient {}\".format(l,c))\n",
    "    \n",
    "approx = lambda x: np.dot(np.array([np.exp(x), np.sin(x), gamma(x), 1]), coeffs_)"
   ]
  },
  {
   "cell_type": "code",
   "execution_count": 63,
   "metadata": {},
   "outputs": [
    {
     "data": {
      "text/plain": [
       "[<matplotlib.lines.Line2D at 0x7fe42b95ba10>]"
      ]
     },
     "execution_count": 63,
     "metadata": {},
     "output_type": "execute_result"
    },
    {
     "data": {
      "image/png": "[encoded data removed]",
      "text/plain": [
       "<Figure size 432x288 with 1 Axes>"
      ]
     },
     "metadata": {
      "needs_background": "light"
     },
     "output_type": "display_data"
    }
   ],
   "source": [
    "plt.title(\"Approximation L2 error {}\".format(round(la.norm(b-np.array([approx(x) for x in DOMAIN]), ord=2),8)))\n",
    "plt.plot(DOMAIN, b)\n",
    "plt.plot(DOMAIN, [approx(x) for x in DOMAIN])"
   ]
  },
  {
   "cell_type": "code",
   "execution_count": 68,
   "metadata": {},
   "outputs": [
    {
     "name": "stdout",
     "output_type": "stream",
     "text": [
      "0.5176441722594816 0.5176348547717843\n",
      "0.9155666888060501 0.9155963302752292\n",
      "0.5348030164514074 0.534833869239014\n",
      "0.9881788355639238 0.9881188118811881\n",
      "0.5113060133331133 0.5112704918032787\n",
      "0.5359504973424591 0.535982814178303\n",
      "0.7425814807002649 0.7425595238095238\n",
      "0.6206512910515741 0.6206467661691543\n",
      "0.9172506715679468 0.917279411764706\n",
      "0.5802027558463809 0.5802325581395349\n"
     ]
    }
   ],
   "source": [
    "a = [approx(x) for x in DOMAIN]\n",
    "\n",
    "for i in range(10):\n",
    "    indx_ = np.random.choice(len(DOMAIN))\n",
    "    print(a[indx_], b[indx_])"
   ]
  },
  {
   "cell_type": "code",
   "execution_count": 78,
   "metadata": {},
   "outputs": [
    {
     "name": "stdout",
     "output_type": "stream",
     "text": [
      "Function: e^x with coeffecient 0.05797301677549551\n",
      "Function: sin(x) with coeffecient -0.7606537020844569\n",
      "Function: gamma(x) with coeffecient 0.999999445345629\n",
      "Function: constant with coeffecient 0.4967174143136241\n"
     ]
    }
   ],
   "source": [
    "# Part b\n",
    "# Discretize our domain\n",
    "DOMAIN = np.linspace(1e-6,1,500)\n",
    "\n",
    "# Get our overdetermined A matrix\n",
    "A = np.vstack((np.exp(DOMAIN), np.sin(DOMAIN), gamma(DOMAIN), np.ones(len(DOMAIN)))).T\n",
    "A[0,2]=1e6\n",
    "# Get our b vector\n",
    "b = np.array([1/(x) for x in DOMAIN])\n",
    "\n",
    "# Solve for our coeffs of best fit\n",
    "coeffs_ = la.lstsq(A,b)[0]\n",
    "\n",
    "# Display results\n",
    "for c, l in zip(coeffs_,['e^x', 'sin(x)', 'gamma(x)', 'constant']):\n",
    "    print(\"Function: {} with coeffecient {}\".format(l,c))\n",
    "    \n",
    "approx = lambda x: np.dot(np.array([np.exp(x), np.sin(x), gamma(x), 1]), coeffs_)"
   ]
  },
  {
   "cell_type": "code",
   "execution_count": 79,
   "metadata": {},
   "outputs": [
    {
     "data": {
      "text/plain": [
       "[<matplotlib.lines.Line2D at 0x7fe42bb639d0>]"
      ]
     },
     "execution_count": 79,
     "metadata": {},
     "output_type": "execute_result"
    },
    {
     "data": {
      "image/png": "[encoded data removed]",
      "text/plain": [
       "<Figure size 432x288 with 1 Axes>"
      ]
     },
     "metadata": {
      "needs_background": "light"
     },
     "output_type": "display_data"
    }
   ],
   "source": [
    "plt.title(\"Approximation L2 error {}\".format(round(la.norm(b-np.array([approx(x) for x in DOMAIN]), ord=2),8)))\n",
    "plt.plot(DOMAIN, b)\n",
    "plt.plot(DOMAIN, [approx(x) for x in DOMAIN])"
   ]
  },
  {
   "cell_type": "code",
   "execution_count": null,
   "metadata": {},
   "outputs": [],
   "source": []
  }
 ],
 "metadata": {
  "kernelspec": {
   "display_name": "Python 3",
   "language": "python",
   "name": "python3"
  },
  "language_info": {
   "codemirror_mode": {
    "name": "ipython",
    "version": 3
   },
   "file_extension": ".py",
   "mimetype": "text/x-python",
   "name": "python",
   "nbconvert_exporter": "python",
   "pygments_lexer": "ipython3",
   "version": "3.7.4"
  }
 },
 "nbformat": 4,
 "nbformat_minor": 4
}
